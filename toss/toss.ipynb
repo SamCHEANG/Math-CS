{
 "cells": [
  {
   "cell_type": "code",
   "execution_count": 10,
   "metadata": {},
   "outputs": [],
   "source": [
    "from collections.abc import Callable\n",
    "import numpy as np\n",
    "import pandas as pd\n",
    "import matplotlib.pyplot as plt"
   ]
  },
  {
   "cell_type": "code",
   "execution_count": 11,
   "metadata": {},
   "outputs": [],
   "source": [
    "class Toss:\n",
    "    id = 0\n",
    "\n",
    "    def __init__(self, HH: float = 3, TT: float = 1, HT: float = 2) -> None:\n",
    "        self.strategy_count = 0\n",
    "        self.HH = HH\n",
    "        self.TT = TT\n",
    "        self.HT = HT\n",
    "        Toss.id += 1\n",
    "\n",
    "    def get_statistics(f):\n",
    "        def wrapper(self, *args, **kwargs):\n",
    "            res = f(self, *args, **kwargs)\n",
    "            strategy_name = kwargs.get(\"strategy_name\")\n",
    "            n = kwargs.get(\"n\")\n",
    "            iteration = kwargs.get(\"iteration\")\n",
    "            min = np.min(res)\n",
    "            max = np.max(res)\n",
    "            positive_count = np.sum(res > 0)\n",
    "            negative_count = np.sum(res < 0)\n",
    "            mean = np.mean(res)\n",
    "            median = np.median(res)\n",
    "            std = np.std(res)\n",
    "            statistics = {\n",
    "                \"# of Rounds\": n,\n",
    "                \"Iteration\": iteration,\n",
    "                \">0\": positive_count,\n",
    "                \"<0\": negative_count,\n",
    "                \"Min\": min,\n",
    "                \"Max\": max,\n",
    "                \"Mean\": mean,\n",
    "                \"Median\": median,\n",
    "                \"Standard Deviation\": std,\n",
    "            }\n",
    "            df = pd.DataFrame.from_dict(statistics, orient=\"index\")\n",
    "            df.columns = [f\"Strategy{self.strategy_count:03d}: {strategy_name}\"]\n",
    "\n",
    "            class Report:\n",
    "                def __init__(self, data, statistics) -> None:\n",
    "                    self.data = data\n",
    "                    self.statistics = statistics\n",
    "\n",
    "            return Report(res, df)\n",
    "\n",
    "        return wrapper\n",
    "\n",
    "    @get_statistics\n",
    "    def toss(\n",
    "        self,\n",
    "        your_strategy: Callable,\n",
    "        n: int = 1,\n",
    "        iteration: int = 1,\n",
    "        strategy_name: str = \"\",\n",
    "    ) -> np.ndarray:\n",
    "        y = (self.TT + self.HT) / (self.HH + self.TT + 2 * self.HT)\n",
    "        print(f\"Initial Condition {Toss.id:03d}\")\n",
    "        print(f\"\\tHH:{self.HH}, TT:{self.TT}, HT/TH:{self.HT}\")\n",
    "        print(f\"\\t(HT/TH)^2 > HH*TT: {self.HT**2>self.HH*self.TT}\")\n",
    "        print(\n",
    "            f\"\\tf(x,y) = {self.HH+self.TT+2*self.HT}xy-{self.TT+self.HT}x-{self.TT+self.HT}y+{self.TT}, 0 <= x <= 1, 0 <= y <= 1\"\n",
    "        )\n",
    "        print(f\"\\tSaddle point is: ({y:.05f},{y:.05f})\")\n",
    "\n",
    "        n = int(n)\n",
    "        iteration = int(iteration)\n",
    "        gain = np.zeros(iteration)\n",
    "\n",
    "        for i in range(iteration):\n",
    "            gain[i] = 0\n",
    "            for j in range(n):\n",
    "                opponent = np.random.choice([0, 1], p=[y, 1 - y])\n",
    "                you = your_strategy([0, 1])\n",
    "                if opponent ^ you:\n",
    "                    gain[i] -= self.HT\n",
    "                if opponent == you and opponent == 0:\n",
    "                    gain[i] += self.HH\n",
    "                if opponent == you and opponent == 1:\n",
    "                    gain[i] += self.TT\n",
    "\n",
    "        self.strategy_count += 1\n",
    "        return gain"
   ]
  },
  {
   "cell_type": "code",
   "execution_count": 12,
   "metadata": {},
   "outputs": [],
   "source": [
    "toss = Toss(HH=3, TT=1, HT=2)"
   ]
  },
  {
   "cell_type": "code",
   "execution_count": 13,
   "metadata": {},
   "outputs": [
    {
     "name": "stdout",
     "output_type": "stream",
     "text": [
      "Initial condition 001\n",
      "\tHH:3, TT:1, HT/TH:2\n",
      "\t(HT/TH)^2 > HH*TT: True\n",
      "\tf(x,y) = 8xy-3x-3y+1, 0 <= x <= 1, 0 <= y <= 1\n",
      "\tSaddle point is: (0.37500,0.37500)\n"
     ]
    },
    {
     "ename": "KeyboardInterrupt",
     "evalue": "",
     "output_type": "error",
     "traceback": [
      "\u001b[1;31m---------------------------------------------------------------------------\u001b[0m",
      "\u001b[1;31mKeyboardInterrupt\u001b[0m                         Traceback (most recent call last)",
      "\u001b[1;32mc:\\Users\\sam\\Desktop\\New folder\\toss.ipynb Cell 4\u001b[0m in \u001b[0;36m1\n\u001b[1;32m----> <a href='vscode-notebook-cell:/c%3A/Users/sam/Desktop/New%20folder/toss.ipynb#W3sZmlsZQ%3D%3D?line=0'>1</a>\u001b[0m toss1 \u001b[39m=\u001b[39m toss\u001b[39m.\u001b[39mtoss(\n\u001b[0;32m      <a href='vscode-notebook-cell:/c%3A/Users/sam/Desktop/New%20folder/toss.ipynb#W3sZmlsZQ%3D%3D?line=1'>2</a>\u001b[0m     \u001b[39mlambda\u001b[39;00m x: np\u001b[39m.\u001b[39mrandom\u001b[39m.\u001b[39mchoice(x, p\u001b[39m=\u001b[39m[\u001b[39m1\u001b[39m \u001b[39m/\u001b[39m \u001b[39m2\u001b[39m, \u001b[39m1\u001b[39m \u001b[39m/\u001b[39m \u001b[39m2\u001b[39m]),\n\u001b[0;32m      <a href='vscode-notebook-cell:/c%3A/Users/sam/Desktop/New%20folder/toss.ipynb#W3sZmlsZQ%3D%3D?line=2'>3</a>\u001b[0m     strategy_name\u001b[39m=\u001b[39m\u001b[39m\"\u001b[39m\u001b[39mH:T = 1:1\u001b[39m\u001b[39m\"\u001b[39m,\n\u001b[0;32m      <a href='vscode-notebook-cell:/c%3A/Users/sam/Desktop/New%20folder/toss.ipynb#W3sZmlsZQ%3D%3D?line=3'>4</a>\u001b[0m     n\u001b[39m=\u001b[39m\u001b[39m1e3\u001b[39m,\n\u001b[0;32m      <a href='vscode-notebook-cell:/c%3A/Users/sam/Desktop/New%20folder/toss.ipynb#W3sZmlsZQ%3D%3D?line=4'>5</a>\u001b[0m     iteration\u001b[39m=\u001b[39m\u001b[39m1e3\u001b[39m,\n\u001b[0;32m      <a href='vscode-notebook-cell:/c%3A/Users/sam/Desktop/New%20folder/toss.ipynb#W3sZmlsZQ%3D%3D?line=5'>6</a>\u001b[0m )\n\u001b[0;32m      <a href='vscode-notebook-cell:/c%3A/Users/sam/Desktop/New%20folder/toss.ipynb#W3sZmlsZQ%3D%3D?line=6'>7</a>\u001b[0m plt\u001b[39m.\u001b[39mhist(toss1\u001b[39m.\u001b[39mdata,bins\u001b[39m=\u001b[39m\u001b[39m15\u001b[39m)\n\u001b[0;32m      <a href='vscode-notebook-cell:/c%3A/Users/sam/Desktop/New%20folder/toss.ipynb#W3sZmlsZQ%3D%3D?line=7'>8</a>\u001b[0m toss1\u001b[39m.\u001b[39mstatistics\n",
      "\u001b[1;32mc:\\Users\\sam\\Desktop\\New folder\\toss.ipynb Cell 4\u001b[0m in \u001b[0;36m1\n\u001b[0;32m     <a href='vscode-notebook-cell:/c%3A/Users/sam/Desktop/New%20folder/toss.ipynb#W3sZmlsZQ%3D%3D?line=11'>12</a>\u001b[0m \u001b[39mdef\u001b[39;00m \u001b[39mwrapper\u001b[39m(\u001b[39mself\u001b[39m, \u001b[39m*\u001b[39margs, \u001b[39m*\u001b[39m\u001b[39m*\u001b[39mkwargs):\n\u001b[1;32m---> <a href='vscode-notebook-cell:/c%3A/Users/sam/Desktop/New%20folder/toss.ipynb#W3sZmlsZQ%3D%3D?line=12'>13</a>\u001b[0m     res \u001b[39m=\u001b[39m f(\u001b[39mself\u001b[39m, \u001b[39m*\u001b[39margs, \u001b[39m*\u001b[39m\u001b[39m*\u001b[39mkwargs)\n\u001b[0;32m     <a href='vscode-notebook-cell:/c%3A/Users/sam/Desktop/New%20folder/toss.ipynb#W3sZmlsZQ%3D%3D?line=13'>14</a>\u001b[0m     strategy_name \u001b[39m=\u001b[39m kwargs\u001b[39m.\u001b[39mget(\u001b[39m\"\u001b[39m\u001b[39mstrategy_name\u001b[39m\u001b[39m\"\u001b[39m)\n\u001b[0;32m     <a href='vscode-notebook-cell:/c%3A/Users/sam/Desktop/New%20folder/toss.ipynb#W3sZmlsZQ%3D%3D?line=14'>15</a>\u001b[0m     n \u001b[39m=\u001b[39m kwargs\u001b[39m.\u001b[39mget(\u001b[39m\"\u001b[39m\u001b[39mn\u001b[39m\u001b[39m\"\u001b[39m)\n",
      "\u001b[1;32mc:\\Users\\sam\\Desktop\\New folder\\toss.ipynb Cell 4\u001b[0m in \u001b[0;36m7\n\u001b[0;32m     <a href='vscode-notebook-cell:/c%3A/Users/sam/Desktop/New%20folder/toss.ipynb#W3sZmlsZQ%3D%3D?line=68'>69</a>\u001b[0m gain[i] \u001b[39m=\u001b[39m \u001b[39m0\u001b[39m\n\u001b[0;32m     <a href='vscode-notebook-cell:/c%3A/Users/sam/Desktop/New%20folder/toss.ipynb#W3sZmlsZQ%3D%3D?line=69'>70</a>\u001b[0m \u001b[39mfor\u001b[39;00m j \u001b[39min\u001b[39;00m \u001b[39mrange\u001b[39m(n):\n\u001b[1;32m---> <a href='vscode-notebook-cell:/c%3A/Users/sam/Desktop/New%20folder/toss.ipynb#W3sZmlsZQ%3D%3D?line=70'>71</a>\u001b[0m     opponent \u001b[39m=\u001b[39m np\u001b[39m.\u001b[39;49mrandom\u001b[39m.\u001b[39;49mchoice([\u001b[39m0\u001b[39;49m, \u001b[39m1\u001b[39;49m], p\u001b[39m=\u001b[39;49m[y, \u001b[39m1\u001b[39;49m \u001b[39m-\u001b[39;49m y])\n\u001b[0;32m     <a href='vscode-notebook-cell:/c%3A/Users/sam/Desktop/New%20folder/toss.ipynb#W3sZmlsZQ%3D%3D?line=71'>72</a>\u001b[0m     you \u001b[39m=\u001b[39m your_strategy([\u001b[39m0\u001b[39m, \u001b[39m1\u001b[39m])\n\u001b[0;32m     <a href='vscode-notebook-cell:/c%3A/Users/sam/Desktop/New%20folder/toss.ipynb#W3sZmlsZQ%3D%3D?line=72'>73</a>\u001b[0m     \u001b[39mif\u001b[39;00m opponent \u001b[39m^\u001b[39m you:\n",
      "\u001b[1;31mKeyboardInterrupt\u001b[0m: "
     ]
    }
   ],
   "source": [
    "toss1 = toss.toss(\n",
    "    lambda x: np.random.choice(x, p=[1 / 2, 1 / 2]),\n",
    "    strategy_name=\"H:T = 1:1\",\n",
    "    n=1e3,\n",
    "    iteration=1e3,\n",
    ")\n",
    "plt.hist(toss1.data,bins=15)\n",
    "toss1.statistics"
   ]
  },
  {
   "cell_type": "code",
   "execution_count": null,
   "metadata": {},
   "outputs": [
    {
     "name": "stdout",
     "output_type": "stream",
     "text": [
      "HH:3, TT:1, HT/TH:2\n",
      "(HT/TH)^2 > HH*TT: True\n",
      "f(x,y) = 8xy-3x-3y+1, 0 <= x <= 1, 0 <= y <= 1\n",
      "Saddle point is: (0.37500,0.37500)\n"
     ]
    },
    {
     "ename": "KeyboardInterrupt",
     "evalue": "",
     "output_type": "error",
     "traceback": [
      "\u001b[1;31m---------------------------------------------------------------------------\u001b[0m",
      "\u001b[1;31mKeyboardInterrupt\u001b[0m                         Traceback (most recent call last)",
      "\u001b[1;32mc:\\Users\\sam\\Desktop\\New folder\\toss.ipynb Cell 5\u001b[0m in \u001b[0;36m1\n\u001b[1;32m----> <a href='vscode-notebook-cell:/c%3A/Users/sam/Desktop/New%20folder/toss.ipynb#W4sZmlsZQ%3D%3D?line=0'>1</a>\u001b[0m toss2 \u001b[39m=\u001b[39m toss\u001b[39m.\u001b[39mtoss(\n\u001b[0;32m      <a href='vscode-notebook-cell:/c%3A/Users/sam/Desktop/New%20folder/toss.ipynb#W4sZmlsZQ%3D%3D?line=1'>2</a>\u001b[0m     \u001b[39mlambda\u001b[39;00m x: np\u001b[39m.\u001b[39mrandom\u001b[39m.\u001b[39mchoice(x, p\u001b[39m=\u001b[39m[\u001b[39m3\u001b[39m \u001b[39m/\u001b[39m \u001b[39m8\u001b[39m, \u001b[39m5\u001b[39m \u001b[39m/\u001b[39m \u001b[39m8\u001b[39m]),\n\u001b[0;32m      <a href='vscode-notebook-cell:/c%3A/Users/sam/Desktop/New%20folder/toss.ipynb#W4sZmlsZQ%3D%3D?line=2'>3</a>\u001b[0m     strategy_name\u001b[39m=\u001b[39m\u001b[39m'\u001b[39m\u001b[39m\"\u001b[39m\u001b[39mH:T = 3:5\u001b[39m\u001b[39m\"\u001b[39m\u001b[39m'\u001b[39m,\n\u001b[0;32m      <a href='vscode-notebook-cell:/c%3A/Users/sam/Desktop/New%20folder/toss.ipynb#W4sZmlsZQ%3D%3D?line=3'>4</a>\u001b[0m     n\u001b[39m=\u001b[39m\u001b[39m1e3\u001b[39m,\n\u001b[0;32m      <a href='vscode-notebook-cell:/c%3A/Users/sam/Desktop/New%20folder/toss.ipynb#W4sZmlsZQ%3D%3D?line=4'>5</a>\u001b[0m     iteration\u001b[39m=\u001b[39m\u001b[39m1e3\u001b[39m,\n\u001b[0;32m      <a href='vscode-notebook-cell:/c%3A/Users/sam/Desktop/New%20folder/toss.ipynb#W4sZmlsZQ%3D%3D?line=5'>6</a>\u001b[0m )\n\u001b[0;32m      <a href='vscode-notebook-cell:/c%3A/Users/sam/Desktop/New%20folder/toss.ipynb#W4sZmlsZQ%3D%3D?line=6'>7</a>\u001b[0m plt\u001b[39m.\u001b[39mhist(toss2\u001b[39m.\u001b[39mdata, bins\u001b[39m=\u001b[39m\u001b[39m15\u001b[39m)\n\u001b[0;32m      <a href='vscode-notebook-cell:/c%3A/Users/sam/Desktop/New%20folder/toss.ipynb#W4sZmlsZQ%3D%3D?line=7'>8</a>\u001b[0m toss2\u001b[39m.\u001b[39mstatistics\n",
      "\u001b[1;32mc:\\Users\\sam\\Desktop\\New folder\\toss.ipynb Cell 5\u001b[0m in \u001b[0;36m7\n\u001b[0;32m      <a href='vscode-notebook-cell:/c%3A/Users/sam/Desktop/New%20folder/toss.ipynb#W4sZmlsZQ%3D%3D?line=5'>6</a>\u001b[0m \u001b[39mdef\u001b[39;00m \u001b[39mwrapper\u001b[39m(\u001b[39mself\u001b[39m, \u001b[39m*\u001b[39margs, \u001b[39m*\u001b[39m\u001b[39m*\u001b[39mkwargs):\n\u001b[1;32m----> <a href='vscode-notebook-cell:/c%3A/Users/sam/Desktop/New%20folder/toss.ipynb#W4sZmlsZQ%3D%3D?line=6'>7</a>\u001b[0m     res \u001b[39m=\u001b[39m f(\u001b[39mself\u001b[39m, \u001b[39m*\u001b[39margs, \u001b[39m*\u001b[39m\u001b[39m*\u001b[39mkwargs)\n\u001b[0;32m      <a href='vscode-notebook-cell:/c%3A/Users/sam/Desktop/New%20folder/toss.ipynb#W4sZmlsZQ%3D%3D?line=7'>8</a>\u001b[0m     strategy_name \u001b[39m=\u001b[39m kwargs\u001b[39m.\u001b[39mget(\u001b[39m\"\u001b[39m\u001b[39mstrategy_name\u001b[39m\u001b[39m\"\u001b[39m)\n\u001b[0;32m      <a href='vscode-notebook-cell:/c%3A/Users/sam/Desktop/New%20folder/toss.ipynb#W4sZmlsZQ%3D%3D?line=8'>9</a>\u001b[0m     n \u001b[39m=\u001b[39m kwargs\u001b[39m.\u001b[39mget(\u001b[39m\"\u001b[39m\u001b[39mn\u001b[39m\u001b[39m\"\u001b[39m)\n",
      "\u001b[1;32mc:\\Users\\sam\\Desktop\\New folder\\toss.ipynb Cell 5\u001b[0m in \u001b[0;36m6\n\u001b[0;32m     <a href='vscode-notebook-cell:/c%3A/Users/sam/Desktop/New%20folder/toss.ipynb#W4sZmlsZQ%3D%3D?line=62'>63</a>\u001b[0m gain[i] \u001b[39m=\u001b[39m \u001b[39m0\u001b[39m\n\u001b[0;32m     <a href='vscode-notebook-cell:/c%3A/Users/sam/Desktop/New%20folder/toss.ipynb#W4sZmlsZQ%3D%3D?line=63'>64</a>\u001b[0m \u001b[39mfor\u001b[39;00m j \u001b[39min\u001b[39;00m \u001b[39mrange\u001b[39m(n):\n\u001b[1;32m---> <a href='vscode-notebook-cell:/c%3A/Users/sam/Desktop/New%20folder/toss.ipynb#W4sZmlsZQ%3D%3D?line=64'>65</a>\u001b[0m     opponent \u001b[39m=\u001b[39m np\u001b[39m.\u001b[39;49mrandom\u001b[39m.\u001b[39;49mchoice([\u001b[39m0\u001b[39;49m, \u001b[39m1\u001b[39;49m], p\u001b[39m=\u001b[39;49m[y, \u001b[39m1\u001b[39;49m \u001b[39m-\u001b[39;49m y])\n\u001b[0;32m     <a href='vscode-notebook-cell:/c%3A/Users/sam/Desktop/New%20folder/toss.ipynb#W4sZmlsZQ%3D%3D?line=65'>66</a>\u001b[0m     you \u001b[39m=\u001b[39m your_strategy([\u001b[39m0\u001b[39m, \u001b[39m1\u001b[39m])\n\u001b[0;32m     <a href='vscode-notebook-cell:/c%3A/Users/sam/Desktop/New%20folder/toss.ipynb#W4sZmlsZQ%3D%3D?line=66'>67</a>\u001b[0m     \u001b[39mif\u001b[39;00m opponent \u001b[39m^\u001b[39m you:\n",
      "\u001b[1;31mKeyboardInterrupt\u001b[0m: "
     ]
    }
   ],
   "source": [
    "toss2 = toss.toss(\n",
    "    lambda x: np.random.choice(x, p=[3 / 8, 5 / 8]),\n",
    "    strategy_name='\"H:T = 3:5\"',\n",
    "    n=1e3,\n",
    "    iteration=1e3,\n",
    ")\n",
    "plt.hist(toss2.data, bins=15)\n",
    "toss2.statistics"
   ]
  },
  {
   "cell_type": "code",
   "execution_count": null,
   "metadata": {},
   "outputs": [
    {
     "data": {
      "text/html": [
       "<div>\n",
       "<style scoped>\n",
       "    .dataframe tbody tr th:only-of-type {\n",
       "        vertical-align: middle;\n",
       "    }\n",
       "\n",
       "    .dataframe tbody tr th {\n",
       "        vertical-align: top;\n",
       "    }\n",
       "\n",
       "    .dataframe thead th {\n",
       "        text-align: right;\n",
       "    }\n",
       "</style>\n",
       "<table border=\"1\" class=\"dataframe\">\n",
       "  <thead>\n",
       "    <tr style=\"text-align: right;\">\n",
       "      <th></th>\n",
       "      <th>Strategy003: \"H:T = 5:3\"</th>\n",
       "    </tr>\n",
       "  </thead>\n",
       "  <tbody>\n",
       "    <tr>\n",
       "      <th># of Rounds</th>\n",
       "      <td>1000.000000</td>\n",
       "    </tr>\n",
       "    <tr>\n",
       "      <th>Iteration</th>\n",
       "      <td>1000.000000</td>\n",
       "    </tr>\n",
       "    <tr>\n",
       "      <th>&gt;0</th>\n",
       "      <td>28.000000</td>\n",
       "    </tr>\n",
       "    <tr>\n",
       "      <th>&lt;0</th>\n",
       "      <td>972.000000</td>\n",
       "    </tr>\n",
       "    <tr>\n",
       "      <th>Min</th>\n",
       "      <td>-327.000000</td>\n",
       "    </tr>\n",
       "    <tr>\n",
       "      <th>Max</th>\n",
       "      <td>76.000000</td>\n",
       "    </tr>\n",
       "    <tr>\n",
       "      <th>Mean</th>\n",
       "      <td>-123.786000</td>\n",
       "    </tr>\n",
       "    <tr>\n",
       "      <th>Median</th>\n",
       "      <td>-124.000000</td>\n",
       "    </tr>\n",
       "    <tr>\n",
       "      <th>Standard Deviation</th>\n",
       "      <td>65.800761</td>\n",
       "    </tr>\n",
       "  </tbody>\n",
       "</table>\n",
       "</div>"
      ],
      "text/plain": [
       "                    Strategy003: \"H:T = 5:3\"\n",
       "# of Rounds                      1000.000000\n",
       "Iteration                        1000.000000\n",
       ">0                                 28.000000\n",
       "<0                                972.000000\n",
       "Min                              -327.000000\n",
       "Max                                76.000000\n",
       "Mean                             -123.786000\n",
       "Median                           -124.000000\n",
       "Standard Deviation                 65.800761"
      ]
     },
     "execution_count": 12,
     "metadata": {},
     "output_type": "execute_result"
    },
    {
     "data": {
      "image/png": "[encoded data removed]",
      "text/plain": [
       "<Figure size 640x480 with 1 Axes>"
      ]
     },
     "metadata": {},
     "output_type": "display_data"
    }
   ],
   "source": [
    "toss3 = toss.toss(\n",
    "    lambda x: np.random.choice(x, p=[5 / 8, 3 / 8]),\n",
    "    strategy_name='\"H:T = 5:3\"',\n",
    "    n=1e3,\n",
    "    iteration=1e3,\n",
    ")\n",
    "plt.hist(toss3.data,bins=15)\n",
    "toss3.statistics"
   ]
  },
  {
   "cell_type": "code",
   "execution_count": null,
   "metadata": {},
   "outputs": [],
   "source": []
  }
 ],
 "metadata": {
  "kernelspec": {
   "display_name": "Python 3",
   "language": "python",
   "name": "python3"
  },
  "language_info": {
   "codemirror_mode": {
    "name": "ipython",
    "version": 3
   },
   "file_extension": ".py",
   "mimetype": "text/x-python",
   "name": "python",
   "nbconvert_exporter": "python",
   "pygments_lexer": "ipython3",
   "version": "3.10.8"
  },
  "orig_nbformat": 4
 },
 "nbformat": 4,
 "nbformat_minor": 2
}
